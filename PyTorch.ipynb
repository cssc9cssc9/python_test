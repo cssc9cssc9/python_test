{
  "nbformat": 4,
  "nbformat_minor": 0,
  "metadata": {
    "colab": {
      "name": "PyTorch.ipynb",
      "provenance": [],
      "authorship_tag": "ABX9TyNLjG95RK642cSRDAcscPdX",
      "include_colab_link": true
    },
    "kernelspec": {
      "name": "python3",
      "display_name": "Python 3"
    }
  },
  "cells": [
    {
      "cell_type": "markdown",
      "metadata": {
        "id": "view-in-github",
        "colab_type": "text"
      },
      "source": [
        "<a href=\"https://colab.research.google.com/github/cssc9cssc9/python_test/blob/main/PyTorch.ipynb\" target=\"_parent\"><img src=\"https://colab.research.google.com/assets/colab-badge.svg\" alt=\"Open In Colab\"/></a>"
      ]
    },
    {
      "cell_type": "markdown",
      "metadata": {
        "id": "BVp8WqoTR7VG"
      },
      "source": [
        "> The reason we need to learn PyTorch:\r\n",
        "- **Automatic differentiation** is a powerful tool\r\n",
        "- PyTorch implements common functions used in deep learning\r\n",
        "- Data Processing with PyTorch DataSet\r\n",
        "- **Mixed Presision** Training in PyTorch (Decrease the used memory)"
      ]
    },
    {
      "cell_type": "code",
      "metadata": {
        "id": "tY2XtWeLSIlC"
      },
      "source": [
        "#!pip install torch\r\n",
        "import torch\r\n",
        "import torch.nn as nn\r\n",
        "import torch.functional as fun\r\n",
        "\r\n",
        "from mpl_toolkits.mplot3d import Axes3D\r\n",
        "import matplotlib.pyplot as plt\r\n",
        "\r\n",
        "import numpy as np\r\n",
        "\r\n",
        "torch.manual_seed(446)\r\n",
        "np.random.seed(446)"
      ],
      "execution_count": 1,
      "outputs": []
    },
    {
      "cell_type": "markdown",
      "metadata": {
        "id": "-eglnf6hS1k9"
      },
      "source": [
        "## tensor and relation to ndarray\r\n",
        "PyTorch's basic building block, the torch's `tensor` is similar to numpy's `ndarray`"
      ]
    },
    {
      "cell_type": "code",
      "metadata": {
        "id": "IVFKAuSZAIfF"
      },
      "source": [
        ""
      ],
      "execution_count": 1,
      "outputs": []
    },
    {
      "cell_type": "code",
      "metadata": {
        "colab": {
          "base_uri": "https://localhost:8080/"
        },
        "id": "mLLx8uuiTXAl",
        "outputId": "fc5023b0-ffa1-466d-cbd8-c2405bb45276"
      },
      "source": [
        "# We create tensors in a similar way to numpy ndarrays\r\n",
        "x_numpy = np.array([.1, .2, .3])\r\n",
        "x_torch = torch.tensor([.1, .2 ,.3])\r\n",
        "print(f'x_numpy = {x_numpy}, \\nx_torch = {x_torch}\\n')\r\n",
        "\r\n",
        "# We also can to basic operations like +-*/\r\n",
        "y_numpy = np.array([3,4,5.])\r\n",
        "y_torch = torch.tensor([3,4,5.])\r\n",
        "print(f'x+y=\\n{x_numpy+y_numpy}\\n{x_torch+y_torch}\\n')\r\n",
        "\r\n",
        "# Many functions that are in numpy are also in PyTorch\r\n",
        "print(f'norm\\nnp.linalg.norm(x_numpy) = {np.linalg.norm(x_numpy)}\\ntorch.norm(x_torch) = {torch.norm(x_torch)}\\n')\r\n",
        "\r\n",
        "# to apply an operation along a dimension\r\n",
        "# We use dim keyword argument instead of axis\r\n",
        "x_numpy = np.array([[1,2],[3,4.]])\r\n",
        "x_torch = torch.tensor([[1,2],[3,4.]])\r\n",
        "print(f'mean along the 1st(0th) dimension\\nnp.mean(numpy, axis=0) = {np.mean(x_numpy, axis=0)},\\ntorch.mean(x_torch, dim=0) = {torch.mean(x_torch, dim=0)}')"
      ],
      "execution_count": 2,
      "outputs": [
        {
          "output_type": "stream",
          "text": [
            "x_numpy = [0.1 0.2 0.3], \n",
            "x_torch = tensor([0.1000, 0.2000, 0.3000])\n",
            "\n",
            "x+y=\n",
            "[3.1 4.2 5.3]\n",
            "tensor([3.1000, 4.2000, 5.3000])\n",
            "\n",
            "norm\n",
            "np.linalg.norm(x_numpy) = 0.37416573867739417\n",
            "torch.norm(x_torch) = 0.37416574358940125\n",
            "\n",
            "mean along the 1st(0th) dimension\n",
            "np.mean(numpy, axis=0) = [2. 3.],\n",
            "torch.mean(x_torch, dim=0) = tensor([2., 3.])\n"
          ],
          "name": "stdout"
        }
      ]
    },
    {
      "cell_type": "markdown",
      "metadata": {
        "id": "oFMloO0AW_ID"
      },
      "source": [
        "## `tensor.view`\r\n",
        "We can use `tensor.view()` function to reshape tensors similarly to `numpy.reshape()`\r\n",
        "\r\n",
        "It can also automatically calculate the correct dimension if a `-1` is passed in. This is useful if we are working with batches but the batch size is unknown.\r\n"
      ]
    },
    {
      "cell_type": "code",
      "metadata": {
        "colab": {
          "base_uri": "https://localhost:8080/"
        },
        "id": "6G4_3WNCAhe8",
        "outputId": "cc28d9ee-d055-4f27-b16b-4099e53ffe7e"
      },
      "source": [
        "# \"MNIST\"\r\n",
        "N, C, W, H = 10000, 3, 28, 28\r\n",
        "X = torch.randn((N, C, W, H))\r\n",
        "\r\n",
        "print(f\"X.shape = {X.shape}\\n\")\r\n",
        "print(f\"X.view(N, C, 784).shape = {X.view(N, C, 784).shape}\\n\")\r\n",
        "print(f'X.view(-1, C, 784).shape = {X.view(-1, C, 784).shape}\\n')"
      ],
      "execution_count": 3,
      "outputs": [
        {
          "output_type": "stream",
          "text": [
            "X.shape = torch.Size([10000, 3, 28, 28])\n",
            "\n",
            "X.view(N, C, 784).shape = torch.Size([10000, 3, 784])\n",
            "\n",
            "X.view(-1, C, 784).shape = torch.Size([10000, 3, 784])\n",
            "\n"
          ],
          "name": "stdout"
        }
      ]
    },
    {
      "cell_type": "markdown",
      "metadata": {
        "id": "eZSs29udB4Q5"
      },
      "source": [
        "## BROADCASTING SEMANTICS\r\n",
        "Two tensors are **broadcastable** if the following rules hold:\r\n",
        "\r\n",
        "1. Each tensor has at least one dimension.\r\n",
        "2. The dimension is read **from right to left**, and only the highest dimension can be empty.\r\n",
        "3. When iterating over hte dimension sizes, starting at the trailling dimension, the dimension sizes must either be **equal**, **one of them is 1**, or **one of them does not exist**."
      ]
    },
    {
      "cell_type": "markdown",
      "metadata": {
        "id": "0Q1yjFtZIYgG"
      },
      "source": [
        "##### Try 1\r\n",
        "We create a $R^{3\\times2}$ matrix $x$, and a $R^{2}$ array $y$, and we consider $x+y$ and see how the broadcasting works."
      ]
    },
    {
      "cell_type": "code",
      "metadata": {
        "colab": {
          "base_uri": "https://localhost:8080/"
        },
        "id": "yKVmXhTHu26u",
        "outputId": "cebf980a-0b80-4509-8faf-65972b457c25"
      },
      "source": [
        "# View how the broadcasting work\r\n",
        "x = torch.tensor([list(range(3*2))]).view([3,2])\r\n",
        "y = torch.ones(2)\r\n",
        "print(f'a =\\n{x}\\nb = \\n{y}\\na+b=\\n{x+y}')"
      ],
      "execution_count": 9,
      "outputs": [
        {
          "output_type": "stream",
          "text": [
            "a =\n",
            "tensor([[0, 1],\n",
            "        [2, 3],\n",
            "        [4, 5]])\n",
            "b = \n",
            "tensor([1., 1.])\n",
            "a+b=\n",
            "tensor([[1., 2.],\n",
            "        [3., 4.],\n",
            "        [5., 6.]])\n"
          ],
          "name": "stdout"
        }
      ]
    },
    {
      "cell_type": "markdown",
      "metadata": {
        "id": "Flbc1NSMwhMg"
      },
      "source": [
        "According the above example, we can find tensor copy itself to form a $3\\times2$ matrix."
      ]
    },
    {
      "cell_type": "markdown",
      "metadata": {
        "id": "H31Q8unYJK8_"
      },
      "source": [
        "#### Try 2\r\n",
        "We create a $R^{5\\times1\\times4\\times1}$ tensor $x$, and a $R^{3\\times1\\times1}$ tensor $y$. (i.e., $y$ is a array in mode $3$.)"
      ]
    },
    {
      "cell_type": "code",
      "metadata": {
        "colab": {
          "base_uri": "https://localhost:8080/"
        },
        "id": "9pHr8gH7CkYR",
        "outputId": "ef54b194-4516-4136-fb62-bb0375f19773"
      },
      "source": [
        "# PyTorch operations support NumPy Boradcasting Semantics\r\n",
        "x=torch.empty(5,1,4,1)\r\n",
        "y=torch.empty( 3,1,1)\r\n",
        "print(f\"(x+y).size()={(x+y).size()}\")"
      ],
      "execution_count": 10,
      "outputs": [
        {
          "output_type": "stream",
          "text": [
            "(x+y).size()=torch.Size([5, 3, 4, 1])\n"
          ],
          "name": "stdout"
        }
      ]
    },
    {
      "cell_type": "code",
      "metadata": {
        "id": "dUqK9OtlDDDY",
        "colab": {
          "base_uri": "https://localhost:8080/"
        },
        "outputId": "1229133f-f481-4103-9b9b-3f729073211e"
      },
      "source": [
        "a = torch.tensor(list(range(4*3*2)))\r\n",
        "a = a.view([4,3,2,1])\r\n",
        "b = torch.tensor(list(range(4*2)))\r\n",
        "b = b.view([4,1,2,1])\r\n",
        "print(f\"(a+b).size()={(a+b).size()}\")"
      ],
      "execution_count": 6,
      "outputs": [
        {
          "output_type": "stream",
          "text": [
            "(a+b).size()=torch.Size([4, 3, 2, 1])\n"
          ],
          "name": "stdout"
        }
      ]
    },
    {
      "cell_type": "markdown",
      "metadata": {
        "id": "x8FDoKKFKvA0"
      },
      "source": [
        "## Computation graphs\r\n",
        "What;s special about PyTorch's `tensor` object is that it implicitly creates a computation graph in the background. A computation graph is a way of writing a mathematical expression as a graph. There is a algorithm to **compute the gradients of all variables of a computation graph in time** on the same order it is to compute the function itself.\r\n",
        "\r\n",
        "</br>\r\n",
        "\r\n",
        "Consider the expression $e=(a+b)*(b+1)$ with values $a=2,\\ b=1$. We can draw the evaluated computation graph as\r\n",
        "\r\n",
        "In PyTorch, we can write this as\r\n",
        "\r\n",
        "![tree-img](https://colah.github.io/posts/2015-08-Backprop/img/tree-eval.png)\r\n"
      ]
    },
    {
      "cell_type": "code",
      "metadata": {
        "id": "1fjuCaziNdJ1"
      },
      "source": [
        ""
      ],
      "execution_count": null,
      "outputs": []
    },
    {
      "cell_type": "code",
      "metadata": {
        "id": "3Jw8vqzoNYpp"
      },
      "source": [
        ""
      ],
      "execution_count": null,
      "outputs": []
    },
    {
      "cell_type": "code",
      "metadata": {
        "id": "9y5d-eIYNJct"
      },
      "source": [
        ""
      ],
      "execution_count": null,
      "outputs": []
    },
    {
      "cell_type": "code",
      "metadata": {
        "id": "xudxuPYaNAc_"
      },
      "source": [
        ""
      ],
      "execution_count": null,
      "outputs": []
    },
    {
      "cell_type": "code",
      "metadata": {
        "id": "1YMK5uX6M8I8"
      },
      "source": [
        ""
      ],
      "execution_count": null,
      "outputs": []
    },
    {
      "cell_type": "code",
      "metadata": {
        "id": "yx8pGipdMwYL"
      },
      "source": [
        ""
      ],
      "execution_count": null,
      "outputs": []
    },
    {
      "cell_type": "code",
      "metadata": {
        "id": "Duypn7_YLEtg"
      },
      "source": [
        ""
      ],
      "execution_count": null,
      "outputs": []
    },
    {
      "cell_type": "code",
      "metadata": {
        "id": "hQT2jhpfCdbr"
      },
      "source": [
        ""
      ],
      "execution_count": 6,
      "outputs": []
    },
    {
      "cell_type": "code",
      "metadata": {
        "id": "V-Ru2A6PCaR5"
      },
      "source": [
        ""
      ],
      "execution_count": 6,
      "outputs": []
    },
    {
      "cell_type": "code",
      "metadata": {
        "id": "_yMAnRzJBL_s"
      },
      "source": [
        ""
      ],
      "execution_count": 6,
      "outputs": []
    },
    {
      "cell_type": "code",
      "metadata": {
        "id": "MyVqu0gtBI0d"
      },
      "source": [
        ""
      ],
      "execution_count": 6,
      "outputs": []
    },
    {
      "cell_type": "code",
      "metadata": {
        "id": "OBTHoDzrAeSk"
      },
      "source": [
        ""
      ],
      "execution_count": 6,
      "outputs": []
    },
    {
      "cell_type": "code",
      "metadata": {
        "id": "r3IkT7-kAEOU"
      },
      "source": [
        ""
      ],
      "execution_count": 6,
      "outputs": []
    },
    {
      "cell_type": "code",
      "metadata": {
        "id": "JDB55dvF_8-g"
      },
      "source": [
        ""
      ],
      "execution_count": 6,
      "outputs": []
    },
    {
      "cell_type": "code",
      "metadata": {
        "id": "ypMyS1l_WyN4"
      },
      "source": [
        ""
      ],
      "execution_count": 6,
      "outputs": []
    },
    {
      "cell_type": "code",
      "metadata": {
        "id": "IWzduRdYWWJ7"
      },
      "source": [
        ""
      ],
      "execution_count": 6,
      "outputs": []
    },
    {
      "cell_type": "code",
      "metadata": {
        "id": "CN5KR0dvWUaR"
      },
      "source": [
        ""
      ],
      "execution_count": 6,
      "outputs": []
    },
    {
      "cell_type": "code",
      "metadata": {
        "id": "pAHGW6KrWPs9"
      },
      "source": [
        ""
      ],
      "execution_count": 6,
      "outputs": []
    },
    {
      "cell_type": "code",
      "metadata": {
        "id": "ROG7dPWSWMyV"
      },
      "source": [
        ""
      ],
      "execution_count": 6,
      "outputs": []
    },
    {
      "cell_type": "code",
      "metadata": {
        "id": "e6Zkdou4VBMD"
      },
      "source": [
        ""
      ],
      "execution_count": 6,
      "outputs": []
    },
    {
      "cell_type": "code",
      "metadata": {
        "id": "mCu9ANCBShWO"
      },
      "source": [
        ""
      ],
      "execution_count": 6,
      "outputs": []
    },
    {
      "cell_type": "code",
      "metadata": {
        "id": "z9QYsN_mSAZE"
      },
      "source": [
        ""
      ],
      "execution_count": 6,
      "outputs": []
    },
    {
      "cell_type": "markdown",
      "metadata": {
        "id": "6DYACatTR7Fv"
      },
      "source": [
        "source:\r\n",
        "\r\n",
        "[PyTorch Tutorial (Hung-yi Lee)](https://www.youtube.com/watch?v=kQeezFrNoOg&ab_channel=Hung-yiLee)\r\n",
        "\r\n",
        "[PyTorch Official Tutorials document](https://www.youtube.com/redirect?event=video_description&redir_token=QUFFLUhqbVZ4aXdrXzNHWjVNRG04WUhWeUI2U0RvVjE1UXxBQ3Jtc0tuSlJ0VHkxZlJ5dWVJRnd5WHlXZXRjWnhOLTVIbVRBb0FUbkMwcjk1RGE0eXFCaTB1Qkxla0FmRF9XMHVPZ25GdHVfVlRjTzFIblEzTnItVE1UcmRheDJ2c1liTF9EUHA3NXFqb2JNNUNsX2h1UnFLZw&q=https%3A%2F%2Fpytorch.org%2Ftutorials%2F)"
      ]
    },
    {
      "cell_type": "code",
      "metadata": {
        "id": "x7neMjEVSn6r"
      },
      "source": [
        ""
      ],
      "execution_count": 6,
      "outputs": []
    }
  ]
}